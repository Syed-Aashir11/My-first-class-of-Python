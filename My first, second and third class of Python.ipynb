{
 "cells": [
  {
   "cell_type": "code",
   "execution_count": null,
   "id": "african-ballot",
   "metadata": {},
   "outputs": [],
   "source": [
    "My Python first class"
   ]
  },
  {
   "cell_type": "code",
   "execution_count": 3,
   "id": "revolutionary-petite",
   "metadata": {},
   "outputs": [
    {
     "name": "stdout",
     "output_type": "stream",
     "text": [
      "Hello World\n"
     ]
    }
   ],
   "source": [
    "print(\"Hello World\")"
   ]
  },
  {
   "cell_type": "code",
   "execution_count": 4,
   "id": "miniature-sharing",
   "metadata": {},
   "outputs": [
    {
     "name": "stdout",
     "output_type": "stream",
     "text": [
      "Hello World\n"
     ]
    }
   ],
   "source": [
    "a=\"Hello World\"\n",
    "print(a)"
   ]
  },
  {
   "cell_type": "code",
   "execution_count": 5,
   "id": "needed-tissue",
   "metadata": {},
   "outputs": [
    {
     "name": "stdout",
     "output_type": "stream",
     "text": [
      "Islamabad\n"
     ]
    }
   ],
   "source": [
    "c=\"Islamabad\"\n",
    "print(c)"
   ]
  },
  {
   "cell_type": "code",
   "execution_count": 9,
   "id": "theoretical-mexico",
   "metadata": {},
   "outputs": [
    {
     "name": "stdout",
     "output_type": "stream",
     "text": [
      "Syed Aashir\n",
      "Working from home\n"
     ]
    }
   ],
   "source": [
    "name=\"Syed Aashir\"\n",
    "school=\"I am Working from home\"\n",
    "print(name)\n",
    "print(schoolname)\n"
   ]
  },
  {
   "cell_type": "code",
   "execution_count": 10,
   "id": "cardiac-nitrogen",
   "metadata": {},
   "outputs": [
    {
     "name": "stdout",
     "output_type": "stream",
     "text": [
      "1\n",
      "2\n",
      "3\n"
     ]
    }
   ],
   "source": [
    "a=1;\n",
    "b=2;\n",
    "c=3;\n",
    "print(a)\n",
    "print(b)\n",
    "print(c)"
   ]
  },
  {
   "cell_type": "code",
   "execution_count": null,
   "id": "intimate-crown",
   "metadata": {},
   "outputs": [],
   "source": [
    "My Python second class"
   ]
  },
  {
   "cell_type": "code",
   "execution_count": 15,
   "id": "independent-particle",
   "metadata": {},
   "outputs": [
    {
     "name": "stdout",
     "output_type": "stream",
     "text": [
      "Syed Aashir\n",
      "Syed Aashir\n"
     ]
    }
   ],
   "source": [
    "#string variable\n",
    "a = \"Syed Aashir\"\n",
    "name = \"Syed Aashir\"\n",
    "print(a)\n",
    "print(name)"
   ]
  },
  {
   "cell_type": "code",
   "execution_count": 18,
   "id": "secure-banks",
   "metadata": {},
   "outputs": [
    {
     "name": "stdout",
     "output_type": "stream",
     "text": [
      "6\n"
     ]
    }
   ],
   "source": [
    "#integer variable : Numbers\n",
    "x = 6\n",
    "print(x)"
   ]
  },
  {
   "cell_type": "code",
   "execution_count": 19,
   "id": "unlike-borough",
   "metadata": {},
   "outputs": [
    {
     "name": "stdout",
     "output_type": "stream",
     "text": [
      "2 7\n"
     ]
    }
   ],
   "source": [
    "number1 = 2\n",
    "number2 = 7\n",
    "print(number1, number2)"
   ]
  },
  {
   "cell_type": "code",
   "execution_count": 25,
   "id": "innocent-recall",
   "metadata": {},
   "outputs": [
    {
     "name": "stdout",
     "output_type": "stream",
     "text": [
      "27 7\n",
      "277\n"
     ]
    }
   ],
   "source": [
    "number1 = \"27\"\n",
    "number2 = \"7\"\n",
    "print(number1,number2)\n",
    "print(number1+number2)      "
   ]
  },
  {
   "cell_type": "code",
   "execution_count": 26,
   "id": "anonymous-longitude",
   "metadata": {},
   "outputs": [
    {
     "name": "stdout",
     "output_type": "stream",
     "text": [
      "4.5 6.9\n"
     ]
    }
   ],
   "source": [
    "#float variable :decimal number\n",
    "a = 4.5\n",
    "d = 6.9\n",
    "print(a , d)"
   ]
  },
  {
   "cell_type": "code",
   "execution_count": null,
   "id": "given-equilibrium",
   "metadata": {},
   "outputs": [],
   "source": [
    "My Python third class"
   ]
  },
  {
   "cell_type": "code",
   "execution_count": 32,
   "id": "positive-composite",
   "metadata": {},
   "outputs": [],
   "source": [
    "#add items in the list:\n",
    "#1. append\n",
    "#2. extend\n",
    "#3. insert"
   ]
  },
  {
   "cell_type": "code",
   "execution_count": 30,
   "id": "mobile-module",
   "metadata": {},
   "outputs": [
    {
     "name": "stdout",
     "output_type": "stream",
     "text": [
      "['dog', 'cat', 'camel', 'cow', 'lion', 'goat', 'fox', 'tiger']\n"
     ]
    }
   ],
   "source": [
    "#append\n",
    "animals=[\"dog\",\"cat\",\"camel\",\"cow\",\"lion\",\"goat\",\"fox\"]\n",
    "animals.append(\"tiger\")\n",
    "print(animals)"
   ]
  },
  {
   "cell_type": "code",
   "execution_count": 33,
   "id": "cosmetic-warrant",
   "metadata": {},
   "outputs": [
    {
     "name": "stdout",
     "output_type": "stream",
     "text": [
      "['dog', 'cat', 'camel', 'cow', 'lion', 'goat', 'fox', 'tiger', 'giraffe', 'elephant', 'giraffe', 'elephant']\n"
     ]
    }
   ],
   "source": [
    "#extend\n",
    "animals.extend([\"giraffe\",\"elephant\"])\n",
    "print(animals)"
   ]
  },
  {
   "cell_type": "code",
   "execution_count": 35,
   "id": "guilty-action",
   "metadata": {},
   "outputs": [
    {
     "name": "stdout",
     "output_type": "stream",
     "text": [
      "[1, 3, 4, 7, 6, 0, 5, 23, 45, 76, 90]\n"
     ]
    }
   ],
   "source": [
    "numbers = [1,3,4,7,6,0,5]\n",
    "numbers.extend([23,45,76,90])\n",
    "print(numbers)"
   ]
  },
  {
   "cell_type": "code",
   "execution_count": 37,
   "id": "architectural-artist",
   "metadata": {},
   "outputs": [
    {
     "name": "stdout",
     "output_type": "stream",
     "text": [
      "[1, 3, 4, 7, 400, 400, 6, 0, 5, 23, 45, 76, 90]\n"
     ]
    }
   ],
   "source": [
    "#insert\n",
    "numbers.insert(4,400)\n",
    "print(numbers)"
   ]
  }
 ],
 "metadata": {
  "kernelspec": {
   "display_name": "Python 3",
   "language": "python",
   "name": "python3"
  },
  "language_info": {
   "codemirror_mode": {
    "name": "ipython",
    "version": 3
   },
   "file_extension": ".py",
   "mimetype": "text/x-python",
   "name": "python",
   "nbconvert_exporter": "python",
   "pygments_lexer": "ipython3",
   "version": "3.8.7"
  }
 },
 "nbformat": 4,
 "nbformat_minor": 5
}
